{
  "nbformat": 4,
  "nbformat_minor": 0,
  "metadata": {
    "colab": {
      "name": "Black Friday Purchases Prediction Model Machine Learning Linear Regression/Recursive Feature Elimination",
      "provenance": [],
      "collapsed_sections": []
    },
    "kernelspec": {
      "name": "python3",
      "display_name": "Python 3"
    }
  },
  "cells": [
    {
      "cell_type": "markdown",
      "metadata": {
        "id": "Q1LeR-V-fcsa"
      },
      "source": [
        "**Table of Contents**: <br>\r\n",
        "**A**. Importing Packages <br>\r\n",
        "**B**. Loading Data <br>\r\n",
        "**C**. Data Cleaning <br>\r\n",
        "**D**. Descriptive Analytics <br>\r\n",
        "**E**. Scatter Matrix Correlation <br>\r\n",
        "**F**. Feature Engineering <br>\r\n",
        "**G**. Linear Regression Model <br>\r\n",
        "**H**. Final Linear Regression Model Test <br>\r\n",
        "**I**. Recursive Feature Elimination <br>\r\n"
      ]
    },
    {
      "cell_type": "markdown",
      "metadata": {
        "id": "72dQby7ce-WX"
      },
      "source": [
        "**A. Importing Packages**"
      ]
    },
    {
      "cell_type": "code",
      "metadata": {
        "colab": {
          "base_uri": "https://localhost:8080/"
        },
        "id": "BAh1FVrsEuO0",
        "outputId": "fc58a005-f400-4adb-f835-abf6402c1bf5"
      },
      "source": [
        "#Importing packages\r\n",
        "\r\n",
        "import warnings\r\n",
        "warnings.filterwarnings('ignore')\r\n",
        "!pip install -U scikit-learn\r\n",
        "import pandas as pd\r\n",
        "import numpy as np\r\n",
        "import seaborn as sns\r\n",
        "import sklearn as skl\r\n",
        "from sklearn.model_selection import train_test_split\r\n",
        "from sklearn.linear_model import LinearRegression\r\n",
        "import matplotlib as mpl\r\n",
        "import matplotlib.pyplot as plt\r\n",
        "%matplotlib inline"
      ],
      "execution_count": null,
      "outputs": [
        {
          "output_type": "stream",
          "text": [
            "Requirement already up-to-date: scikit-learn in /usr/local/lib/python3.6/dist-packages (0.24.0)\n",
            "Requirement already satisfied, skipping upgrade: joblib>=0.11 in /usr/local/lib/python3.6/dist-packages (from scikit-learn) (1.0.0)\n",
            "Requirement already satisfied, skipping upgrade: threadpoolctl>=2.0.0 in /usr/local/lib/python3.6/dist-packages (from scikit-learn) (2.1.0)\n",
            "Requirement already satisfied, skipping upgrade: numpy>=1.13.3 in /usr/local/lib/python3.6/dist-packages (from scikit-learn) (1.19.4)\n",
            "Requirement already satisfied, skipping upgrade: scipy>=0.19.1 in /usr/local/lib/python3.6/dist-packages (from scikit-learn) (1.4.1)\n"
          ],
          "name": "stdout"
        }
      ]
    },
    {
      "cell_type": "markdown",
      "metadata": {
        "id": "c2Ib2L13hMab"
      },
      "source": [
        "**B. Loading Data**"
      ]
    },
    {
      "cell_type": "code",
      "metadata": {
        "id": "dbL3TfzwvVtm"
      },
      "source": [
        "#Loading Data Set\r\n",
        "bf = pd.read_csv('Black_Friday.csv')"
      ],
      "execution_count": null,
      "outputs": []
    },
    {
      "cell_type": "markdown",
      "metadata": {
        "id": "7zMXpPaShTlH"
      },
      "source": [
        "**C. Data Cleaning**"
      ]
    },
    {
      "cell_type": "code",
      "metadata": {
        "colab": {
          "base_uri": "https://localhost:8080/"
        },
        "id": "Xpo7fBrnsBp7",
        "outputId": "ffab8a0d-5976-4423-9340-42b6f69d84ab"
      },
      "source": [
        "#Seeing which columns have NaN values\r\n",
        "bf.isna().sum()\r\n",
        "#Upon seeing this, we can confidently implement the dropna function as there are only two columns which have a significant amount of NaN values, product category 1 and 2"
      ],
      "execution_count": null,
      "outputs": [
        {
          "output_type": "execute_result",
          "data": {
            "text/plain": [
              "User_ID                            0\n",
              "Product_ID                         0\n",
              "Gender                             0\n",
              "Age                                0\n",
              "Occupation                         0\n",
              "City_Category                      0\n",
              "Stay_In_Current_City_Years         0\n",
              "Marital_Status                     0\n",
              "Product_Category_1                 0\n",
              "Product_Category_2            154750\n",
              "Product_Category_3            345824\n",
              "Purchase                           0\n",
              "dtype: int64"
            ]
          },
          "metadata": {
            "tags": []
          },
          "execution_count": 129
        }
      ]
    },
    {
      "cell_type": "code",
      "metadata": {
        "id": "aBSA5_kaFrjg"
      },
      "source": [
        "#Creating function that cleans the data\r\n",
        "def clean(x, file_save_name):\r\n",
        "  #Dropping columns with NaN values (Product category 1 and 2)\r\n",
        "  x = x.dropna(axis = 1)\r\n",
        "  #Turning all colmn values into strings\r\n",
        "  x = x.astype(str)\r\n",
        "  #Replacing \"+4\" into \"4\"\r\n",
        "  x['Stay_In_Current_City_Years'] = x['Stay_In_Current_City_Years'].replace('4+', '4')\r\n",
        "  #Replacing bin values for the middle value ronded down\r\n",
        "  x['Age'] = x['Age'].replace('0-17', '9')\r\n",
        "  x['Age'] = x['Age'].replace('55+', '55')\r\n",
        "  x['Age'] = x['Age'].replace('26-35', '31')\r\n",
        "  x['Age'] = x['Age'].replace('46-50', '48')\r\n",
        "  x['Age'] = x['Age'].replace('51-55', '53')\r\n",
        "  x['Age'] = x['Age'].replace('36-45', '41')\r\n",
        "  x['Age'] = x['Age'].replace('18-25', '22')\r\n",
        "  #Adding to Occupation, Marital Status, and Product Category Values so they can be differentiated once feature engineering is applied to them\r\n",
        "  x['Occupation'] = x['Occupation'].replace('1', 'O1')\r\n",
        "  x['Occupation'] = x['Occupation'].replace('2', 'O2')\r\n",
        "  x['Occupation'] = x['Occupation'].replace('3', 'O3')\r\n",
        "  x['Occupation'] = x['Occupation'].replace('4', 'O4')\r\n",
        "  x['Occupation'] = x['Occupation'].replace('5', 'O5')\r\n",
        "  x['Occupation'] = x['Occupation'].replace('6', 'O6')\r\n",
        "  x['Occupation'] = x['Occupation'].replace('7', 'O7')\r\n",
        "  x['Occupation'] = x['Occupation'].replace('8', 'O8')\r\n",
        "  x['Occupation'] = x['Occupation'].replace('9', 'O9')\r\n",
        "  x['Occupation'] = x['Occupation'].replace('10', 'O10')\r\n",
        "  x['Occupation'] = x['Occupation'].replace('11', 'O11')\r\n",
        "  x['Occupation'] = x['Occupation'].replace('12', 'O12')\r\n",
        "  x['Occupation'] = x['Occupation'].replace('13', 'O13')\r\n",
        "  x['Occupation'] = x['Occupation'].replace('14', 'O14')\r\n",
        "  x['Occupation'] = x['Occupation'].replace('15', 'O15')\r\n",
        "  x['Occupation'] = x['Occupation'].replace('16', 'O16')\r\n",
        "  x['Occupation'] = x['Occupation'].replace('17', 'O17')\r\n",
        "  x['Occupation'] = x['Occupation'].replace('18', 'O18')\r\n",
        "  x['Occupation'] = x['Occupation'].replace('19', 'O19')\r\n",
        "  x['Occupation'] = x['Occupation'].replace('20', 'O20')\r\n",
        "  x['Occupation'] = x['Occupation'].replace('21', 'O21')\r\n",
        "  x['Marital_Status'] = x['Marital_Status'].replace('0', 'M0')\r\n",
        "  x['Marital_Status'] = x['Marital_Status'].replace('1', 'M1')\r\n",
        "  x['Product_Category_1'] = x['Product_Category_1'].replace('1', 'P1')\r\n",
        "  x['Product_Category_1'] = x['Product_Category_1'].replace('2', 'P2')\r\n",
        "  x['Product_Category_1'] = x['Product_Category_1'].replace('3', 'P3')\r\n",
        "  x['Product_Category_1'] = x['Product_Category_1'].replace('4', 'P4')\r\n",
        "  x['Product_Category_1'] = x['Product_Category_1'].replace('5', 'P5')\r\n",
        "  x['Product_Category_1'] = x['Product_Category_1'].replace('6', 'P6')\r\n",
        "  x['Product_Category_1'] = x['Product_Category_1'].replace('7', 'P7')\r\n",
        "  x['Product_Category_1'] = x['Product_Category_1'].replace('8', 'P8')\r\n",
        "  x['Product_Category_1'] = x['Product_Category_1'].replace('9', 'P9')\r\n",
        "  x['Product_Category_1'] = x['Product_Category_1'].replace('10', 'P10')\r\n",
        "  x['Product_Category_1'] = x['Product_Category_1'].replace('11', 'P11')\r\n",
        "  x['Product_Category_1'] = x['Product_Category_1'].replace('12', 'P12')\r\n",
        "  x['Product_Category_1'] = x['Product_Category_1'].replace('13', 'P13')\r\n",
        "  x['Product_Category_1'] = x['Product_Category_1'].replace('14', 'P14')\r\n",
        "  x['Product_Category_1'] = x['Product_Category_1'].replace('15', 'P15')\r\n",
        "  x['Product_Category_1'] = x['Product_Category_1'].replace('16', 'P16')\r\n",
        "  x['Product_Category_1'] = x['Product_Category_1'].replace('17', 'P17')\r\n",
        "  x['Product_Category_1'] = x['Product_Category_1'].replace('18', 'P18')\r\n",
        "  #Turning Age, Stay, and Purchase values into integers\r\n",
        "  numbers = {'Age':int, 'Stay_In_Current_City_Years':int, 'Purchase':int}\r\n",
        "  x = x.astype(numbers)\r\n",
        "  #Saving a cleaned file of this\r\n",
        "  x.to_csv(file_save_name, index = False)"
      ],
      "execution_count": null,
      "outputs": []
    },
    {
      "cell_type": "code",
      "metadata": {
        "id": "HvWREMDfJFac"
      },
      "source": [
        "#Cleaning and Saving the data set\r\n",
        "clean(bf, \"cleaned_bf_data.csv\")"
      ],
      "execution_count": null,
      "outputs": []
    },
    {
      "cell_type": "code",
      "metadata": {
        "id": "8JqGMy_HGzhx"
      },
      "source": [
        "#Setting template to load the values with the correct type\r\n",
        "final_format = {'User_ID': str, 'Product_ID': str, 'Gender': str, 'Age': int, \"Occupation\": str, 'City_Category': str, 'Stay_In_Current_City_Years': int, 'Marital_Status': str, 'Product_Category_1': str, 'Purchase': int}\r\n",
        "#Loading cleaned data\r\n",
        "cbf = pd.read_csv(r'cleaned_bf_data.csv', dtype=final_format, delimiter=',')"
      ],
      "execution_count": null,
      "outputs": []
    },
    {
      "cell_type": "markdown",
      "metadata": {
        "id": "gOpCREXcjGlV"
      },
      "source": [
        "**D. Descriptive Analysis**"
      ]
    },
    {
      "cell_type": "markdown",
      "metadata": {
        "id": "wRqv7XEUjRrU"
      },
      "source": [
        "*1*- Gender Frequency and Purchases by Gender"
      ]
    },
    {
      "cell_type": "code",
      "metadata": {
        "colab": {
          "base_uri": "https://localhost:8080/",
          "height": 292
        },
        "id": "eo2EDPiNjNls",
        "outputId": "909e938b-bef4-4229-b1b8-c5097a18564c"
      },
      "source": [
        "#Grouping by gender and finding unique IDs to cont their frequency\r\n",
        "Gender_by_ID = cbf.groupby('Gender')['User_ID'].nunique()\r\n",
        "#Creating an x variable to graph\r\n",
        "Gender = pd.Series(['Female', 'Male'])\r\n",
        "#Grouping by gender and finding the sum of their purchases\r\n",
        "Gender_by_Purchase = cbf.groupby('Gender')['Purchase'].sum()\r\n",
        "\r\n",
        "#Creating 2 subplots\r\n",
        "fig1, (ax1, ax2) = plt.subplots(1,2)\r\n",
        "\r\n",
        "#Graphing gender frequency on the first plot\r\n",
        "ax1.bar(Gender, Gender_by_ID)\r\n",
        "ax1.set_title('Gender Frequency Chart', y=1.05)\r\n",
        "ax1.set_ylabel('Count')\r\n",
        "\r\n",
        "#Graphing gender total purchases\r\n",
        "ax2.bar(Gender, Gender_by_Purchase)\r\n",
        "ax2.set_title('Total Purchases by Gender', y=1.05)\r\n",
        "ax2.set_ylabel('Purchases')\r\n",
        "\r\n",
        "#Increasing the space between the graphs\r\n",
        "fig1.subplots_adjust(wspace=0.3)"
      ],
      "execution_count": null,
      "outputs": [
        {
          "output_type": "display_data",
          "data": {
            "image/png": "[encoded data removed]",
            "text/plain": [
              "<Figure size 432x288 with 2 Axes>"
            ]
          },
          "metadata": {
            "tags": [],
            "needs_background": "light"
          }
        }
      ]
    },
    {
      "cell_type": "markdown",
      "metadata": {
        "id": "co8EhXT8jVbc"
      },
      "source": [
        "2- Total amount of purchases by cities."
      ]
    },
    {
      "cell_type": "code",
      "metadata": {
        "id": "OLn8dOBZjX9j",
        "colab": {
          "base_uri": "https://localhost:8080/",
          "height": 311
        },
        "outputId": "101f9305-8d55-4ed5-9117-9b658a2dc550"
      },
      "source": [
        "#Grouping by city category and summing purchases, while plotting it into a bar graph\r\n",
        "Purchase_by_City = cbf.groupby('City_Category')['Purchase'].sum().plot.bar()\r\n",
        "#Adding a title to the graph\r\n",
        "plt.title('Total Purchases by City')"
      ],
      "execution_count": null,
      "outputs": [
        {
          "output_type": "execute_result",
          "data": {
            "text/plain": [
              "Text(0.5, 1.0, 'Total Purchases by City')"
            ]
          },
          "metadata": {
            "tags": []
          },
          "execution_count": 134
        },
        {
          "output_type": "display_data",
          "data": {
            "image/png": "[encoded data removed]",
            "text/plain": [
              "<Figure size 432x288 with 1 Axes>"
            ]
          },
          "metadata": {
            "tags": [],
            "needs_background": "light"
          }
        }
      ]
    },
    {
      "cell_type": "markdown",
      "metadata": {
        "id": "1uFQKBzdjYUm"
      },
      "source": [
        "3- Compare total amount of purchases for combinations of gender and age."
      ]
    },
    {
      "cell_type": "code",
      "metadata": {
        "id": "dwtBLzjijat8",
        "colab": {
          "base_uri": "https://localhost:8080/",
          "height": 339
        },
        "outputId": "21a77765-fa43-474d-a2e7-9f742860a485"
      },
      "source": [
        "#Grouping by gender and age, and summing their purchases, while plotting them into a bar graph\r\n",
        "cbf.groupby(['Gender', 'Age'])['Purchase'].sum().plot.bar()\r\n",
        "#Adding a title to the graph\r\n",
        "plt.title('Age by Gender Total Purchases')"
      ],
      "execution_count": null,
      "outputs": [
        {
          "output_type": "execute_result",
          "data": {
            "text/plain": [
              "Text(0.5, 1.0, 'Age by Gender Total Purchases')"
            ]
          },
          "metadata": {
            "tags": []
          },
          "execution_count": 9
        },
        {
          "output_type": "display_data",
          "data": {
            "image/png": "[encoded data removed]",
            "text/plain": [
              "<Figure size 432x288 with 1 Axes>"
            ]
          },
          "metadata": {
            "tags": [],
            "needs_background": "light"
          }
        }
      ]
    },
    {
      "cell_type": "markdown",
      "metadata": {
        "id": "HKTNlnonmuQX"
      },
      "source": [
        "Clearly the best demographic to target are males in their 31sts. "
      ]
    },
    {
      "cell_type": "markdown",
      "metadata": {
        "id": "uLM3_JvpjbF7"
      },
      "source": [
        "4- Using box and whisker plot, compare distribution of purchase amounts among combinations of genders and age."
      ]
    },
    {
      "cell_type": "code",
      "metadata": {
        "id": "QhhzH9ynjdXT",
        "colab": {
          "base_uri": "https://localhost:8080/",
          "height": 1000
        },
        "outputId": "b24a4e25-a643-43ce-eee3-b6cd5811a0e9"
      },
      "source": [
        "#Grouping by gender and age\r\n",
        "Gender_by_Age = cbf.groupby(['Gender', 'Age'])\r\n",
        "\r\n",
        "#For each subgroup, I made a box plot\r\n",
        "for name, group in Gender_by_Age:\r\n",
        "  x = group.boxplot(column='Purchase', by=['Gender', 'Age'])\r\n",
        "  x.set_title('')\r\n",
        "  x.set_ylabel('Purchase')\r\n",
        "  plt.suptitle('')\r\n",
        "  \r\n",
        "\r\n"
      ],
      "execution_count": 154,
      "outputs": [
        {
          "output_type": "display_data",
          "data": {
            "image/png": "[encoded data removed]",
            "text/plain": [
              "<Figure size 432x288 with 1 Axes>"
            ]
          },
          "metadata": {
            "tags": [],
            "needs_background": "light"
          }
        },
        {
          "output_type": "display_data",
          "data": {
            "image/png": "[encoded data removed]",
            "text/plain": [
              "<Figure size 432x288 with 1 Axes>"
            ]
          },
          "metadata": {
            "tags": [],
            "needs_background": "light"
          }
        },
        {
          "output_type": "display_data",
          "data": {
            "image/png": "[encoded data removed]",
            "text/plain": [
              "<Figure size 432x288 with 1 Axes>"
            ]
          },
          "metadata": {
            "tags": [],
            "needs_background": "light"
          }
        },
        {
          "output_type": "display_data",
          "data": {
            "image/png": "[encoded data removed]",
            "text/plain": [
              "<Figure size 432x288 with 1 Axes>"
            ]
          },
          "metadata": {
            "tags": [],
            "needs_background": "light"
          }
        },
        {
          "output_type": "display_data",
          "data": {
            "image/png": "[encoded data removed]",
            "text/plain": [
              "<Figure size 432x288 with 1 Axes>"
            ]
          },
          "metadata": {
            "tags": [],
            "needs_background": "light"
          }
        },
        {
          "output_type": "display_data",
          "data": {
            "image/png": "[encoded data removed]",
            "text/plain": [
              "<Figure size 432x288 with 1 Axes>"
            ]
          },
          "metadata": {
            "tags": [],
            "needs_background": "light"
          }
        },
        {
          "output_type": "display_data",
          "data": {
            "image/png": "[encoded data removed]",
            "text/plain": [
              "<Figure size 432x288 with 1 Axes>"
            ]
          },
          "metadata": {
            "tags": [],
            "needs_background": "light"
          }
        },
        {
          "output_type": "display_data",
          "data": {
            "image/png": "[encoded data removed]",
            "text/plain": [
              "<Figure size 432x288 with 1 Axes>"
            ]
          },
          "metadata": {
            "tags": [],
            "needs_background": "light"
          }
        },
        {
          "output_type": "display_data",
          "data": {
            "image/png": "[encoded data removed]",
            "text/plain": [
              "<Figure size 432x288 with 1 Axes>"
            ]
          },
          "metadata": {
            "tags": [],
            "needs_background": "light"
          }
        },
        {
          "output_type": "display_data",
          "data": {
            "image/png": "[encoded data removed]",
            "text/plain": [
              "<Figure size 432x288 with 1 Axes>"
            ]
          },
          "metadata": {
            "tags": [],
            "needs_background": "light"
          }
        },
        {
          "output_type": "display_data",
          "data": {
            "image/png": "[encoded data removed]",
            "text/plain": [
              "<Figure size 432x288 with 1 Axes>"
            ]
          },
          "metadata": {
            "tags": [],
            "needs_background": "light"
          }
        },
        {
          "output_type": "display_data",
          "data": {
            "image/png": "[encoded data removed]",
            "text/plain": [
              "<Figure size 432x288 with 1 Axes>"
            ]
          },
          "metadata": {
            "tags": [],
            "needs_background": "light"
          }
        },
        {
          "output_type": "display_data",
          "data": {
            "image/png": "[encoded data removed]",
            "text/plain": [
              "<Figure size 432x288 with 1 Axes>"
            ]
          },
          "metadata": {
            "tags": [],
            "needs_background": "light"
          }
        },
        {
          "output_type": "display_data",
          "data": {
            "image/png": "[encoded data removed]",
            "text/plain": [
              "<Figure size 432x288 with 1 Axes>"
            ]
          },
          "metadata": {
            "tags": [],
            "needs_background": "light"
          }
        }
      ]
    },
    {
      "cell_type": "markdown",
      "metadata": {
        "id": "Cm5hlt56jd3B"
      },
      "source": [
        "5- Using box and whisker plot, compare distribution of purchase amounts among different occupations."
      ]
    },
    {
      "cell_type": "code",
      "metadata": {
        "id": "mdPkcq8ujfj3",
        "colab": {
          "base_uri": "https://localhost:8080/",
          "height": 1000
        },
        "outputId": "df939e90-29f7-4329-e32f-0417a5e3c85c"
      },
      "source": [
        "#Grouping by Occupation\r\n",
        "Purchase_by_Occupation = cbf.groupby('Occupation')\r\n",
        "\r\n",
        "#For each group, separated by Occupation, I plotted a box plot using the purchases data points in those groups\r\n",
        "for name, group in Purchase_by_Occupation:\r\n",
        "  x = group.boxplot(column='Purchase', by='Occupation')\r\n",
        "  x.set_title('')\r\n",
        "  x.set_ylabel('Purchase')\r\n",
        "  plt.suptitle('')\r\n",
        "\r\n",
        "\r\n"
      ],
      "execution_count": null,
      "outputs": [
        {
          "output_type": "display_data",
          "data": {
            "image/png": "[encoded data removed]",
            "text/plain": [
              "<Figure size 432x288 with 1 Axes>"
            ]
          },
          "metadata": {
            "tags": [],
            "needs_background": "light"
          }
        },
        {
          "output_type": "display_data",
          "data": {
            "image/png": "[encoded data removed]",
            "text/plain": [
              "<Figure size 432x288 with 1 Axes>"
            ]
          },
          "metadata": {
            "tags": [],
            "needs_background": "light"
          }
        },
        {
          "output_type": "display_data",
          "data": {
            "image/png": "[encoded data removed]",
            "text/plain": [
              "<Figure size 432x288 with 1 Axes>"
            ]
          },
          "metadata": {
            "tags": [],
            "needs_background": "light"
          }
        },
        {
          "output_type": "display_data",
          "data": {
            "image/png": "[encoded data removed]",
            "text/plain": [
              "<Figure size 432x288 with 1 Axes>"
            ]
          },
          "metadata": {
            "tags": [],
            "needs_background": "light"
          }
        },
        {
          "output_type": "display_data",
          "data": {
            "image/png": "[encoded data removed]",
            "text/plain": [
              "<Figure size 432x288 with 1 Axes>"
            ]
          },
          "metadata": {
            "tags": [],
            "needs_background": "light"
          }
        },
        {
          "output_type": "display_data",
          "data": {
            "image/png": "[encoded data removed]",
            "text/plain": [
              "<Figure size 432x288 with 1 Axes>"
            ]
          },
          "metadata": {
            "tags": [],
            "needs_background": "light"
          }
        },
        {
          "output_type": "display_data",
          "data": {
            "image/png": "[encoded data removed]",
            "text/plain": [
              "<Figure size 432x288 with 1 Axes>"
            ]
          },
          "metadata": {
            "tags": [],
            "needs_background": "light"
          }
        },
        {
          "output_type": "display_data",
          "data": {
            "image/png": "[encoded data removed]",
            "text/plain": [
              "<Figure size 432x288 with 1 Axes>"
            ]
          },
          "metadata": {
            "tags": [],
            "needs_background": "light"
          }
        },
        {
          "output_type": "display_data",
          "data": {
            "image/png": "[encoded data removed]",
            "text/plain": [
              "<Figure size 432x288 with 1 Axes>"
            ]
          },
          "metadata": {
            "tags": [],
            "needs_background": "light"
          }
        },
        {
          "output_type": "display_data",
          "data": {
            "image/png": "[encoded data removed]",
            "text/plain": [
              "<Figure size 432x288 with 1 Axes>"
            ]
          },
          "metadata": {
            "tags": [],
            "needs_background": "light"
          }
        },
        {
          "output_type": "display_data",
          "data": {
            "image/png": "[encoded data removed]",
            "text/plain": [
              "<Figure size 432x288 with 1 Axes>"
            ]
          },
          "metadata": {
            "tags": [],
            "needs_background": "light"
          }
        },
        {
          "output_type": "display_data",
          "data": {
            "image/png": "[encoded data removed]",
            "text/plain": [
              "<Figure size 432x288 with 1 Axes>"
            ]
          },
          "metadata": {
            "tags": [],
            "needs_background": "light"
          }
        },
        {
          "output_type": "display_data",
          "data": {
            "image/png": "[encoded data removed]",
            "text/plain": [
              "<Figure size 432x288 with 1 Axes>"
            ]
          },
          "metadata": {
            "tags": [],
            "needs_background": "light"
          }
        },
        {
          "output_type": "display_data",
          "data": {
            "image/png": "[encoded data removed]",
            "text/plain": [
              "<Figure size 432x288 with 1 Axes>"
            ]
          },
          "metadata": {
            "tags": [],
            "needs_background": "light"
          }
        },
        {
          "output_type": "display_data",
          "data": {
            "image/png": "[encoded data removed]",
            "text/plain": [
              "<Figure size 432x288 with 1 Axes>"
            ]
          },
          "metadata": {
            "tags": [],
            "needs_background": "light"
          }
        },
        {
          "output_type": "display_data",
          "data": {
            "image/png": "[encoded data removed]",
            "text/plain": [
              "<Figure size 432x288 with 1 Axes>"
            ]
          },
          "metadata": {
            "tags": [],
            "needs_background": "light"
          }
        },
        {
          "output_type": "display_data",
          "data": {
            "image/png": "[encoded data removed]",
            "text/plain": [
              "<Figure size 432x288 with 1 Axes>"
            ]
          },
          "metadata": {
            "tags": [],
            "needs_background": "light"
          }
        },
        {
          "output_type": "display_data",
          "data": {
            "image/png": "[encoded data removed]",
            "text/plain": [
              "<Figure size 432x288 with 1 Axes>"
            ]
          },
          "metadata": {
            "tags": [],
            "needs_background": "light"
          }
        },
        {
          "output_type": "display_data",
          "data": {
            "image/png": "[encoded data removed]",
            "text/plain": [
              "<Figure size 432x288 with 1 Axes>"
            ]
          },
          "metadata": {
            "tags": [],
            "needs_background": "light"
          }
        },
        {
          "output_type": "display_data",
          "data": {
            "image/png": "[encoded data removed]",
            "text/plain": [
              "<Figure size 432x288 with 1 Axes>"
            ]
          },
          "metadata": {
            "tags": [],
            "needs_background": "light"
          }
        },
        {
          "output_type": "display_data",
          "data": {
            "image/png": "[encoded data removed]",
            "text/plain": [
              "<Figure size 432x288 with 1 Axes>"
            ]
          },
          "metadata": {
            "tags": [],
            "needs_background": "light"
          }
        }
      ]
    },
    {
      "cell_type": "markdown",
      "metadata": {
        "id": "g63W48w11ZXw"
      },
      "source": [
        "**E. Scatter Matrix Correlation**"
      ]
    },
    {
      "cell_type": "code",
      "metadata": {
        "colab": {
          "base_uri": "https://localhost:8080/",
          "height": 430
        },
        "id": "Miw_xDq3NOZE",
        "outputId": "46f943bd-7c8c-4e5d-83be-57388705c469"
      },
      "source": [
        "#Creating the heatmap\r\n",
        "sns.heatmap(cbf.corr())\r\n",
        "#Adjusting the size\r\n",
        "plt.figure(figsize=(16,6))"
      ],
      "execution_count": null,
      "outputs": [
        {
          "output_type": "execute_result",
          "data": {
            "text/plain": [
              "<Figure size 1152x432 with 0 Axes>"
            ]
          },
          "metadata": {
            "tags": []
          },
          "execution_count": 12
        },
        {
          "output_type": "display_data",
          "data": {
            "image/png": "[encoded data removed]",
            "text/plain": [
              "<Figure size 432x288 with 2 Axes>"
            ]
          },
          "metadata": {
            "tags": [],
            "needs_background": "light"
          }
        },
        {
          "output_type": "display_data",
          "data": {
            "text/plain": [
              "<Figure size 1152x432 with 0 Axes>"
            ]
          },
          "metadata": {
            "tags": []
          }
        }
      ]
    },
    {
      "cell_type": "markdown",
      "metadata": {
        "id": "54xII0EnoN0T"
      },
      "source": [
        "**Analysis**: This shows that none of the numerical predictor variables are correlated to each other. However, another concern is the fact that they are also not correlated to the target variable (purchases), which signals that Age and Stay in City Years may not be good predictors. "
      ]
    },
    {
      "cell_type": "markdown",
      "metadata": {
        "id": "bciL_TOpOQjN"
      },
      "source": [
        "**F. Feature Engineering**"
      ]
    },
    {
      "cell_type": "code",
      "metadata": {
        "id": "F78B4K9puvig"
      },
      "source": [
        "#After experiencing many crashes, Google docs does not have the memory to process these data columns so I have removed them\r\n",
        "cbf = cbf.drop(columns=['User_ID','Product_ID'])"
      ],
      "execution_count": null,
      "outputs": []
    },
    {
      "cell_type": "code",
      "metadata": {
        "id": "5sTQGhfBokbi"
      },
      "source": [
        "#Creating function that turns categorical columns into columns of binary values and normalizes numerical columns using mean normalization\r\n",
        "def engi(x):\r\n",
        "  #Creating all the dummmy variables\r\n",
        "  Gender = pd.get_dummies(x['Gender'])\r\n",
        "  Occupation = pd.get_dummies(x['Occupation'])\r\n",
        "  City = pd.get_dummies(x['City_Category'])\r\n",
        "  Marital = pd.get_dummies(x['Marital_Status'])\r\n",
        "  PC1 = pd.get_dummies(x['Product_Category_1'])\r\n",
        "  #Normalizing numerical values\r\n",
        "  Age = ((x['Age'] - x['Age'].mean())/(x['Age'].max() - x['Age'].min()))\r\n",
        "  Stay = ((x['Stay_In_Current_City_Years'] - x['Stay_In_Current_City_Years'].mean())/(x['Stay_In_Current_City_Years'].max() - x['Stay_In_Current_City_Years'].min()))\r\n",
        "  Purchase = ((x['Purchase'] - x['Purchase'].mean())/(x['Purchase'].max() - x['Purchase'].min()))\r\n",
        "  #Concatinating them together into a new data frame\r\n",
        "  fcbf = pd.concat([Gender, Age, Occupation, City, Stay, Marital, PC1, Purchase], axis = 1)\r\n",
        "  return (fcbf)"
      ],
      "execution_count": null,
      "outputs": []
    },
    {
      "cell_type": "code",
      "metadata": {
        "id": "IhbOdcBr8Mn5"
      },
      "source": [
        "#Executing the feature engineering\r\n",
        "fcbf = engi(cbf)"
      ],
      "execution_count": null,
      "outputs": []
    },
    {
      "cell_type": "code",
      "metadata": {
        "colab": {
          "base_uri": "https://localhost:8080/",
          "height": 427
        },
        "id": "02n9XoSASBd1",
        "outputId": "e5bab2e7-734f-4aaa-d0c5-0e2821153632"
      },
      "source": [
        "display(fcbf)"
      ],
      "execution_count": null,
      "outputs": [
        {
          "output_type": "display_data",
          "data": {
            "text/html": [
              "<div>\n",
              "<style scoped>\n",
              "    .dataframe tbody tr th:only-of-type {\n",
              "        vertical-align: middle;\n",
              "    }\n",
              "\n",
              "    .dataframe tbody tr th {\n",
              "        vertical-align: top;\n",
              "    }\n",
              "\n",
              "    .dataframe thead th {\n",
              "        text-align: right;\n",
              "    }\n",
              "</style>\n",
              "<table border=\"1\" class=\"dataframe\">\n",
              "  <thead>\n",
              "    <tr style=\"text-align: right;\">\n",
              "      <th></th>\n",
              "      <th>F</th>\n",
              "      <th>M</th>\n",
              "      <th>Age</th>\n",
              "      <th>0</th>\n",
              "      <th>O1</th>\n",
              "      <th>O10</th>\n",
              "      <th>O11</th>\n",
              "      <th>O12</th>\n",
              "      <th>O13</th>\n",
              "      <th>O14</th>\n",
              "      <th>O15</th>\n",
              "      <th>O16</th>\n",
              "      <th>O17</th>\n",
              "      <th>O18</th>\n",
              "      <th>O19</th>\n",
              "      <th>O2</th>\n",
              "      <th>O20</th>\n",
              "      <th>O3</th>\n",
              "      <th>O4</th>\n",
              "      <th>O5</th>\n",
              "      <th>O6</th>\n",
              "      <th>O7</th>\n",
              "      <th>O8</th>\n",
              "      <th>O9</th>\n",
              "      <th>A</th>\n",
              "      <th>B</th>\n",
              "      <th>C</th>\n",
              "      <th>Stay_In_Current_City_Years</th>\n",
              "      <th>M0</th>\n",
              "      <th>M1</th>\n",
              "      <th>P1</th>\n",
              "      <th>P10</th>\n",
              "      <th>P11</th>\n",
              "      <th>P12</th>\n",
              "      <th>P13</th>\n",
              "      <th>P14</th>\n",
              "      <th>P15</th>\n",
              "      <th>P16</th>\n",
              "      <th>P17</th>\n",
              "      <th>P18</th>\n",
              "      <th>P2</th>\n",
              "      <th>P3</th>\n",
              "      <th>P4</th>\n",
              "      <th>P5</th>\n",
              "      <th>P6</th>\n",
              "      <th>P7</th>\n",
              "      <th>P8</th>\n",
              "      <th>P9</th>\n",
              "      <th>Purchase</th>\n",
              "    </tr>\n",
              "  </thead>\n",
              "  <tbody>\n",
              "    <tr>\n",
              "      <th>0</th>\n",
              "      <td>1</td>\n",
              "      <td>0</td>\n",
              "      <td>-0.557436</td>\n",
              "      <td>0</td>\n",
              "      <td>0</td>\n",
              "      <td>1</td>\n",
              "      <td>0</td>\n",
              "      <td>0</td>\n",
              "      <td>0</td>\n",
              "      <td>0</td>\n",
              "      <td>0</td>\n",
              "      <td>0</td>\n",
              "      <td>0</td>\n",
              "      <td>0</td>\n",
              "      <td>0</td>\n",
              "      <td>0</td>\n",
              "      <td>0</td>\n",
              "      <td>0</td>\n",
              "      <td>0</td>\n",
              "      <td>0</td>\n",
              "      <td>0</td>\n",
              "      <td>0</td>\n",
              "      <td>0</td>\n",
              "      <td>0</td>\n",
              "      <td>1</td>\n",
              "      <td>0</td>\n",
              "      <td>0</td>\n",
              "      <td>0.035093</td>\n",
              "      <td>1</td>\n",
              "      <td>0</td>\n",
              "      <td>0</td>\n",
              "      <td>0</td>\n",
              "      <td>0</td>\n",
              "      <td>0</td>\n",
              "      <td>0</td>\n",
              "      <td>0</td>\n",
              "      <td>0</td>\n",
              "      <td>0</td>\n",
              "      <td>0</td>\n",
              "      <td>0</td>\n",
              "      <td>0</td>\n",
              "      <td>1</td>\n",
              "      <td>0</td>\n",
              "      <td>0</td>\n",
              "      <td>0</td>\n",
              "      <td>0</td>\n",
              "      <td>0</td>\n",
              "      <td>0</td>\n",
              "      <td>-0.040427</td>\n",
              "    </tr>\n",
              "    <tr>\n",
              "      <th>1</th>\n",
              "      <td>1</td>\n",
              "      <td>0</td>\n",
              "      <td>-0.557436</td>\n",
              "      <td>0</td>\n",
              "      <td>0</td>\n",
              "      <td>1</td>\n",
              "      <td>0</td>\n",
              "      <td>0</td>\n",
              "      <td>0</td>\n",
              "      <td>0</td>\n",
              "      <td>0</td>\n",
              "      <td>0</td>\n",
              "      <td>0</td>\n",
              "      <td>0</td>\n",
              "      <td>0</td>\n",
              "      <td>0</td>\n",
              "      <td>0</td>\n",
              "      <td>0</td>\n",
              "      <td>0</td>\n",
              "      <td>0</td>\n",
              "      <td>0</td>\n",
              "      <td>0</td>\n",
              "      <td>0</td>\n",
              "      <td>0</td>\n",
              "      <td>1</td>\n",
              "      <td>0</td>\n",
              "      <td>0</td>\n",
              "      <td>0.035093</td>\n",
              "      <td>1</td>\n",
              "      <td>0</td>\n",
              "      <td>1</td>\n",
              "      <td>0</td>\n",
              "      <td>0</td>\n",
              "      <td>0</td>\n",
              "      <td>0</td>\n",
              "      <td>0</td>\n",
              "      <td>0</td>\n",
              "      <td>0</td>\n",
              "      <td>0</td>\n",
              "      <td>0</td>\n",
              "      <td>0</td>\n",
              "      <td>0</td>\n",
              "      <td>0</td>\n",
              "      <td>0</td>\n",
              "      <td>0</td>\n",
              "      <td>0</td>\n",
              "      <td>0</td>\n",
              "      <td>0</td>\n",
              "      <td>0.246838</td>\n",
              "    </tr>\n",
              "    <tr>\n",
              "      <th>2</th>\n",
              "      <td>1</td>\n",
              "      <td>0</td>\n",
              "      <td>-0.557436</td>\n",
              "      <td>0</td>\n",
              "      <td>0</td>\n",
              "      <td>1</td>\n",
              "      <td>0</td>\n",
              "      <td>0</td>\n",
              "      <td>0</td>\n",
              "      <td>0</td>\n",
              "      <td>0</td>\n",
              "      <td>0</td>\n",
              "      <td>0</td>\n",
              "      <td>0</td>\n",
              "      <td>0</td>\n",
              "      <td>0</td>\n",
              "      <td>0</td>\n",
              "      <td>0</td>\n",
              "      <td>0</td>\n",
              "      <td>0</td>\n",
              "      <td>0</td>\n",
              "      <td>0</td>\n",
              "      <td>0</td>\n",
              "      <td>0</td>\n",
              "      <td>1</td>\n",
              "      <td>0</td>\n",
              "      <td>0</td>\n",
              "      <td>0.035093</td>\n",
              "      <td>1</td>\n",
              "      <td>0</td>\n",
              "      <td>0</td>\n",
              "      <td>0</td>\n",
              "      <td>0</td>\n",
              "      <td>1</td>\n",
              "      <td>0</td>\n",
              "      <td>0</td>\n",
              "      <td>0</td>\n",
              "      <td>0</td>\n",
              "      <td>0</td>\n",
              "      <td>0</td>\n",
              "      <td>0</td>\n",
              "      <td>0</td>\n",
              "      <td>0</td>\n",
              "      <td>0</td>\n",
              "      <td>0</td>\n",
              "      <td>0</td>\n",
              "      <td>0</td>\n",
              "      <td>0</td>\n",
              "      <td>-0.332654</td>\n",
              "    </tr>\n",
              "    <tr>\n",
              "      <th>3</th>\n",
              "      <td>1</td>\n",
              "      <td>0</td>\n",
              "      <td>-0.557436</td>\n",
              "      <td>0</td>\n",
              "      <td>0</td>\n",
              "      <td>1</td>\n",
              "      <td>0</td>\n",
              "      <td>0</td>\n",
              "      <td>0</td>\n",
              "      <td>0</td>\n",
              "      <td>0</td>\n",
              "      <td>0</td>\n",
              "      <td>0</td>\n",
              "      <td>0</td>\n",
              "      <td>0</td>\n",
              "      <td>0</td>\n",
              "      <td>0</td>\n",
              "      <td>0</td>\n",
              "      <td>0</td>\n",
              "      <td>0</td>\n",
              "      <td>0</td>\n",
              "      <td>0</td>\n",
              "      <td>0</td>\n",
              "      <td>0</td>\n",
              "      <td>1</td>\n",
              "      <td>0</td>\n",
              "      <td>0</td>\n",
              "      <td>0.035093</td>\n",
              "      <td>1</td>\n",
              "      <td>0</td>\n",
              "      <td>0</td>\n",
              "      <td>0</td>\n",
              "      <td>0</td>\n",
              "      <td>1</td>\n",
              "      <td>0</td>\n",
              "      <td>0</td>\n",
              "      <td>0</td>\n",
              "      <td>0</td>\n",
              "      <td>0</td>\n",
              "      <td>0</td>\n",
              "      <td>0</td>\n",
              "      <td>0</td>\n",
              "      <td>0</td>\n",
              "      <td>0</td>\n",
              "      <td>0</td>\n",
              "      <td>0</td>\n",
              "      <td>0</td>\n",
              "      <td>0</td>\n",
              "      <td>-0.348006</td>\n",
              "    </tr>\n",
              "    <tr>\n",
              "      <th>4</th>\n",
              "      <td>0</td>\n",
              "      <td>1</td>\n",
              "      <td>0.442564</td>\n",
              "      <td>0</td>\n",
              "      <td>0</td>\n",
              "      <td>0</td>\n",
              "      <td>0</td>\n",
              "      <td>0</td>\n",
              "      <td>0</td>\n",
              "      <td>0</td>\n",
              "      <td>0</td>\n",
              "      <td>1</td>\n",
              "      <td>0</td>\n",
              "      <td>0</td>\n",
              "      <td>0</td>\n",
              "      <td>0</td>\n",
              "      <td>0</td>\n",
              "      <td>0</td>\n",
              "      <td>0</td>\n",
              "      <td>0</td>\n",
              "      <td>0</td>\n",
              "      <td>0</td>\n",
              "      <td>0</td>\n",
              "      <td>0</td>\n",
              "      <td>0</td>\n",
              "      <td>0</td>\n",
              "      <td>1</td>\n",
              "      <td>0.535093</td>\n",
              "      <td>1</td>\n",
              "      <td>0</td>\n",
              "      <td>0</td>\n",
              "      <td>0</td>\n",
              "      <td>0</td>\n",
              "      <td>0</td>\n",
              "      <td>0</td>\n",
              "      <td>0</td>\n",
              "      <td>0</td>\n",
              "      <td>0</td>\n",
              "      <td>0</td>\n",
              "      <td>0</td>\n",
              "      <td>0</td>\n",
              "      <td>0</td>\n",
              "      <td>0</td>\n",
              "      <td>0</td>\n",
              "      <td>0</td>\n",
              "      <td>0</td>\n",
              "      <td>1</td>\n",
              "      <td>0</td>\n",
              "      <td>-0.057292</td>\n",
              "    </tr>\n",
              "    <tr>\n",
              "      <th>...</th>\n",
              "      <td>...</td>\n",
              "      <td>...</td>\n",
              "      <td>...</td>\n",
              "      <td>...</td>\n",
              "      <td>...</td>\n",
              "      <td>...</td>\n",
              "      <td>...</td>\n",
              "      <td>...</td>\n",
              "      <td>...</td>\n",
              "      <td>...</td>\n",
              "      <td>...</td>\n",
              "      <td>...</td>\n",
              "      <td>...</td>\n",
              "      <td>...</td>\n",
              "      <td>...</td>\n",
              "      <td>...</td>\n",
              "      <td>...</td>\n",
              "      <td>...</td>\n",
              "      <td>...</td>\n",
              "      <td>...</td>\n",
              "      <td>...</td>\n",
              "      <td>...</td>\n",
              "      <td>...</td>\n",
              "      <td>...</td>\n",
              "      <td>...</td>\n",
              "      <td>...</td>\n",
              "      <td>...</td>\n",
              "      <td>...</td>\n",
              "      <td>...</td>\n",
              "      <td>...</td>\n",
              "      <td>...</td>\n",
              "      <td>...</td>\n",
              "      <td>...</td>\n",
              "      <td>...</td>\n",
              "      <td>...</td>\n",
              "      <td>...</td>\n",
              "      <td>...</td>\n",
              "      <td>...</td>\n",
              "      <td>...</td>\n",
              "      <td>...</td>\n",
              "      <td>...</td>\n",
              "      <td>...</td>\n",
              "      <td>...</td>\n",
              "      <td>...</td>\n",
              "      <td>...</td>\n",
              "      <td>...</td>\n",
              "      <td>...</td>\n",
              "      <td>...</td>\n",
              "      <td>...</td>\n",
              "    </tr>\n",
              "    <tr>\n",
              "      <th>497991</th>\n",
              "      <td>0</td>\n",
              "      <td>1</td>\n",
              "      <td>0.138216</td>\n",
              "      <td>0</td>\n",
              "      <td>0</td>\n",
              "      <td>0</td>\n",
              "      <td>0</td>\n",
              "      <td>1</td>\n",
              "      <td>0</td>\n",
              "      <td>0</td>\n",
              "      <td>0</td>\n",
              "      <td>0</td>\n",
              "      <td>0</td>\n",
              "      <td>0</td>\n",
              "      <td>0</td>\n",
              "      <td>0</td>\n",
              "      <td>0</td>\n",
              "      <td>0</td>\n",
              "      <td>0</td>\n",
              "      <td>0</td>\n",
              "      <td>0</td>\n",
              "      <td>0</td>\n",
              "      <td>0</td>\n",
              "      <td>0</td>\n",
              "      <td>0</td>\n",
              "      <td>1</td>\n",
              "      <td>0</td>\n",
              "      <td>0.285093</td>\n",
              "      <td>0</td>\n",
              "      <td>1</td>\n",
              "      <td>0</td>\n",
              "      <td>0</td>\n",
              "      <td>0</td>\n",
              "      <td>0</td>\n",
              "      <td>0</td>\n",
              "      <td>0</td>\n",
              "      <td>0</td>\n",
              "      <td>0</td>\n",
              "      <td>0</td>\n",
              "      <td>0</td>\n",
              "      <td>0</td>\n",
              "      <td>0</td>\n",
              "      <td>0</td>\n",
              "      <td>0</td>\n",
              "      <td>0</td>\n",
              "      <td>0</td>\n",
              "      <td>1</td>\n",
              "      <td>0</td>\n",
              "      <td>-0.147509</td>\n",
              "    </tr>\n",
              "    <tr>\n",
              "      <th>497992</th>\n",
              "      <td>0</td>\n",
              "      <td>1</td>\n",
              "      <td>0.138216</td>\n",
              "      <td>0</td>\n",
              "      <td>0</td>\n",
              "      <td>0</td>\n",
              "      <td>0</td>\n",
              "      <td>0</td>\n",
              "      <td>0</td>\n",
              "      <td>0</td>\n",
              "      <td>0</td>\n",
              "      <td>0</td>\n",
              "      <td>0</td>\n",
              "      <td>0</td>\n",
              "      <td>0</td>\n",
              "      <td>0</td>\n",
              "      <td>1</td>\n",
              "      <td>0</td>\n",
              "      <td>0</td>\n",
              "      <td>0</td>\n",
              "      <td>0</td>\n",
              "      <td>0</td>\n",
              "      <td>0</td>\n",
              "      <td>0</td>\n",
              "      <td>0</td>\n",
              "      <td>0</td>\n",
              "      <td>1</td>\n",
              "      <td>0.285093</td>\n",
              "      <td>1</td>\n",
              "      <td>0</td>\n",
              "      <td>0</td>\n",
              "      <td>0</td>\n",
              "      <td>0</td>\n",
              "      <td>0</td>\n",
              "      <td>0</td>\n",
              "      <td>0</td>\n",
              "      <td>0</td>\n",
              "      <td>0</td>\n",
              "      <td>0</td>\n",
              "      <td>0</td>\n",
              "      <td>0</td>\n",
              "      <td>0</td>\n",
              "      <td>0</td>\n",
              "      <td>1</td>\n",
              "      <td>0</td>\n",
              "      <td>0</td>\n",
              "      <td>0</td>\n",
              "      <td>0</td>\n",
              "      <td>-0.031594</td>\n",
              "    </tr>\n",
              "    <tr>\n",
              "      <th>497993</th>\n",
              "      <td>0</td>\n",
              "      <td>1</td>\n",
              "      <td>0.138216</td>\n",
              "      <td>0</td>\n",
              "      <td>0</td>\n",
              "      <td>0</td>\n",
              "      <td>0</td>\n",
              "      <td>0</td>\n",
              "      <td>0</td>\n",
              "      <td>0</td>\n",
              "      <td>0</td>\n",
              "      <td>0</td>\n",
              "      <td>0</td>\n",
              "      <td>0</td>\n",
              "      <td>0</td>\n",
              "      <td>0</td>\n",
              "      <td>1</td>\n",
              "      <td>0</td>\n",
              "      <td>0</td>\n",
              "      <td>0</td>\n",
              "      <td>0</td>\n",
              "      <td>0</td>\n",
              "      <td>0</td>\n",
              "      <td>0</td>\n",
              "      <td>0</td>\n",
              "      <td>0</td>\n",
              "      <td>1</td>\n",
              "      <td>0.285093</td>\n",
              "      <td>1</td>\n",
              "      <td>0</td>\n",
              "      <td>0</td>\n",
              "      <td>0</td>\n",
              "      <td>0</td>\n",
              "      <td>0</td>\n",
              "      <td>0</td>\n",
              "      <td>0</td>\n",
              "      <td>0</td>\n",
              "      <td>0</td>\n",
              "      <td>0</td>\n",
              "      <td>0</td>\n",
              "      <td>0</td>\n",
              "      <td>0</td>\n",
              "      <td>0</td>\n",
              "      <td>0</td>\n",
              "      <td>0</td>\n",
              "      <td>0</td>\n",
              "      <td>1</td>\n",
              "      <td>0</td>\n",
              "      <td>0.020896</td>\n",
              "    </tr>\n",
              "    <tr>\n",
              "      <th>497994</th>\n",
              "      <td>0</td>\n",
              "      <td>1</td>\n",
              "      <td>0.138216</td>\n",
              "      <td>0</td>\n",
              "      <td>0</td>\n",
              "      <td>0</td>\n",
              "      <td>0</td>\n",
              "      <td>0</td>\n",
              "      <td>0</td>\n",
              "      <td>0</td>\n",
              "      <td>0</td>\n",
              "      <td>0</td>\n",
              "      <td>0</td>\n",
              "      <td>0</td>\n",
              "      <td>0</td>\n",
              "      <td>0</td>\n",
              "      <td>1</td>\n",
              "      <td>0</td>\n",
              "      <td>0</td>\n",
              "      <td>0</td>\n",
              "      <td>0</td>\n",
              "      <td>0</td>\n",
              "      <td>0</td>\n",
              "      <td>0</td>\n",
              "      <td>0</td>\n",
              "      <td>0</td>\n",
              "      <td>1</td>\n",
              "      <td>0.285093</td>\n",
              "      <td>1</td>\n",
              "      <td>0</td>\n",
              "      <td>0</td>\n",
              "      <td>0</td>\n",
              "      <td>0</td>\n",
              "      <td>0</td>\n",
              "      <td>0</td>\n",
              "      <td>0</td>\n",
              "      <td>0</td>\n",
              "      <td>0</td>\n",
              "      <td>0</td>\n",
              "      <td>0</td>\n",
              "      <td>0</td>\n",
              "      <td>0</td>\n",
              "      <td>0</td>\n",
              "      <td>0</td>\n",
              "      <td>0</td>\n",
              "      <td>0</td>\n",
              "      <td>1</td>\n",
              "      <td>0</td>\n",
              "      <td>0.027163</td>\n",
              "    </tr>\n",
              "    <tr>\n",
              "      <th>497995</th>\n",
              "      <td>0</td>\n",
              "      <td>1</td>\n",
              "      <td>0.138216</td>\n",
              "      <td>0</td>\n",
              "      <td>0</td>\n",
              "      <td>0</td>\n",
              "      <td>0</td>\n",
              "      <td>0</td>\n",
              "      <td>0</td>\n",
              "      <td>0</td>\n",
              "      <td>0</td>\n",
              "      <td>0</td>\n",
              "      <td>0</td>\n",
              "      <td>0</td>\n",
              "      <td>0</td>\n",
              "      <td>0</td>\n",
              "      <td>1</td>\n",
              "      <td>0</td>\n",
              "      <td>0</td>\n",
              "      <td>0</td>\n",
              "      <td>0</td>\n",
              "      <td>0</td>\n",
              "      <td>0</td>\n",
              "      <td>0</td>\n",
              "      <td>0</td>\n",
              "      <td>0</td>\n",
              "      <td>1</td>\n",
              "      <td>0.285093</td>\n",
              "      <td>1</td>\n",
              "      <td>0</td>\n",
              "      <td>0</td>\n",
              "      <td>0</td>\n",
              "      <td>0</td>\n",
              "      <td>0</td>\n",
              "      <td>0</td>\n",
              "      <td>0</td>\n",
              "      <td>0</td>\n",
              "      <td>0</td>\n",
              "      <td>0</td>\n",
              "      <td>0</td>\n",
              "      <td>1</td>\n",
              "      <td>0</td>\n",
              "      <td>0</td>\n",
              "      <td>0</td>\n",
              "      <td>0</td>\n",
              "      <td>0</td>\n",
              "      <td>0</td>\n",
              "      <td>0</td>\n",
              "      <td>0.163939</td>\n",
              "    </tr>\n",
              "  </tbody>\n",
              "</table>\n",
              "<p>497996 rows × 49 columns</p>\n",
              "</div>"
            ],
            "text/plain": [
              "        F  M       Age  0  O1  O10  O11  ...  P4  P5  P6  P7  P8  P9  Purchase\n",
              "0       1  0 -0.557436  0   0    1    0  ...   0   0   0   0   0   0 -0.040427\n",
              "1       1  0 -0.557436  0   0    1    0  ...   0   0   0   0   0   0  0.246838\n",
              "2       1  0 -0.557436  0   0    1    0  ...   0   0   0   0   0   0 -0.332654\n",
              "3       1  0 -0.557436  0   0    1    0  ...   0   0   0   0   0   0 -0.348006\n",
              "4       0  1  0.442564  0   0    0    0  ...   0   0   0   0   1   0 -0.057292\n",
              "...    .. ..       ... ..  ..  ...  ...  ...  ..  ..  ..  ..  ..  ..       ...\n",
              "497991  0  1  0.138216  0   0    0    0  ...   0   0   0   0   1   0 -0.147509\n",
              "497992  0  1  0.138216  0   0    0    0  ...   0   1   0   0   0   0 -0.031594\n",
              "497993  0  1  0.138216  0   0    0    0  ...   0   0   0   0   1   0  0.020896\n",
              "497994  0  1  0.138216  0   0    0    0  ...   0   0   0   0   1   0  0.027163\n",
              "497995  0  1  0.138216  0   0    0    0  ...   0   0   0   0   0   0  0.163939\n",
              "\n",
              "[497996 rows x 49 columns]"
            ]
          },
          "metadata": {
            "tags": []
          }
        }
      ]
    },
    {
      "cell_type": "markdown",
      "metadata": {
        "id": "QKH9JpGFGtWM"
      },
      "source": [
        "**G. Linear Regression Model**"
      ]
    },
    {
      "cell_type": "code",
      "metadata": {
        "id": "Qr7fUZZOORol"
      },
      "source": [
        "#Splitting data set into training and testing data sets with 80% used for training\r\n",
        "x_train, x_test, y_train, y_test = train_test_split(fcbf.drop(['Purchase'], axis=1), fcbf['Purchase'], test_size = 0.2, random_state=0)"
      ],
      "execution_count": 165,
      "outputs": []
    },
    {
      "cell_type": "code",
      "metadata": {
        "id": "tFsgegk8nVRc"
      },
      "source": [
        "#Creating function that will train  and fit the model, returning the coefficients, intercepts, MAE, MSE, RMSE, and R^2\r\n",
        "#The evalate in here is to determine whether an assesment should be done on how the model performed.\r\n",
        "def lrm(data_frame, evaluate):\r\n",
        "\r\n",
        "  #Creating linear regression model  \r\n",
        "  model = LinearRegression()\r\n",
        "\r\n",
        "  #Training said model\r\n",
        "  model.fit(x_train, y_train)\r\n",
        "\r\n",
        "  #Using model to predict the test data set  \r\n",
        "  y_pred = model.predict(x_test)\r\n",
        "\r\n",
        "  #Obtaining the coefficients, intercepts, MAE, MSE, and R^2\r\n",
        "  evaluate = evaluate.lower()\r\n",
        "  if evaluate in ['y', 'yes']:\r\n",
        "    print('Coefficients: {}'.format(model.coef_))\r\n",
        "    print('Intecerpt: {}'.format(model.intercept_))\r\n",
        "    print('Mean absolute Error (MAE): {:.2f}'.format(skl.metrics.mean_absolute_error(y_test, y_pred)))\r\n",
        "    print('Mean squared error (MSE): {:.2f}'.format(skl.metrics.mean_squared_error(y_test, y_pred)))\r\n",
        "    print('Root mean squared error (RMSE): {:.2f}'.format(np.sqrt(skl.metrics.mean_squared_error(y_test, y_pred))))\r\n",
        "    print('Coefficient of Determination (R^2): {:.2f}'.format(skl.metrics.r2_score(y_test, y_pred)))\r\n",
        "  else:\r\n",
        "    pass\r\n",
        "  #Returning the model will help us use the same model when we are predicting with other data after\r\n",
        "  return (model)"
      ],
      "execution_count": 170,
      "outputs": []
    },
    {
      "cell_type": "code",
      "metadata": {
        "colab": {
          "base_uri": "https://localhost:8080/"
        },
        "id": "ya9nnLDYns0i",
        "outputId": "1dd353a7-7979-426c-e2b5-a3ff63fab1e8"
      },
      "source": [
        "#Executing previous linear regression function\r\n",
        "lrm(fcbf, 'Y')"
      ],
      "execution_count": 167,
      "outputs": [
        {
          "output_type": "stream",
          "text": [
            "Coefficients: [-1.10944763e+11 -1.10944763e+11  2.41515724e-02 -8.14982748e+09\n",
            " -8.14982748e+09 -8.14982748e+09 -8.14982748e+09 -8.14982748e+09\n",
            " -8.14982748e+09 -8.14982748e+09 -8.14982748e+09 -8.14982748e+09\n",
            " -8.14982748e+09 -8.14982748e+09 -8.14982748e+09 -8.14982748e+09\n",
            " -8.14982748e+09 -8.14982748e+09 -8.14982748e+09 -8.14982748e+09\n",
            " -8.14982748e+09 -8.14982748e+09 -8.14982748e+09 -8.14982748e+09\n",
            " -4.29533619e+10 -4.29533619e+10 -4.29533619e+10  5.80076151e-04\n",
            "  3.74068092e+11  3.74068092e+11  1.22554803e+10  1.22554803e+10\n",
            "  1.22554803e+10  1.22554803e+10  1.22554803e+10  1.22554803e+10\n",
            "  1.22554803e+10  1.22554803e+10  1.22554803e+10  1.22554803e+10\n",
            "  1.22554803e+10  1.22554803e+10  1.22554803e+10  1.22554803e+10\n",
            "  1.22554803e+10  1.22554803e+10  1.22554803e+10  1.22554803e+10]\n",
            "Intecerpt: -224275619852.54218\n",
            "Mean absolute Error (MAE): 0.10\n",
            "Mean squared error (MSE): 0.02\n",
            "Root mean squared error (RMSE): 0.13\n",
            "Coefficient of Determination (R^2): 0.63\n"
          ],
          "name": "stdout"
        },
        {
          "output_type": "execute_result",
          "data": {
            "text/plain": [
              "LinearRegression()"
            ]
          },
          "metadata": {
            "tags": []
          },
          "execution_count": 167
        }
      ]
    },
    {
      "cell_type": "markdown",
      "metadata": {
        "id": "R89gyJL-HOKP"
      },
      "source": [
        "**H. Final Linear Regression Model Test**"
      ]
    },
    {
      "cell_type": "code",
      "metadata": {
        "id": "ZMww_wRCHQCt"
      },
      "source": [
        "#Loading final data set\r\n",
        "fe = pd.read_csv('Black_Friday_Final_Test.csv')"
      ],
      "execution_count": null,
      "outputs": []
    },
    {
      "cell_type": "code",
      "metadata": {
        "id": "BPrM_hOGn6_n"
      },
      "source": [
        "#Cleaning and Saving the final test data set\r\n",
        "clean(fe, \"final_cleaned_bf_data.csv\")"
      ],
      "execution_count": null,
      "outputs": []
    },
    {
      "cell_type": "code",
      "metadata": {
        "id": "nUqEw2WvO-w5"
      },
      "source": [
        "#Loading new data set properly\r\n",
        "cfe = pd.read_csv(r'final_cleaned_bf_data.csv', dtype=final_format, delimiter=',')"
      ],
      "execution_count": null,
      "outputs": []
    },
    {
      "cell_type": "code",
      "metadata": {
        "id": "Klb7wT_se66A"
      },
      "source": [
        "#Dropping User ID and Product ID from new data set\r\n",
        "cfe = cfe.drop(columns=['User_ID','Product_ID'])"
      ],
      "execution_count": null,
      "outputs": []
    },
    {
      "cell_type": "code",
      "metadata": {
        "id": "_7hUj_3hclxr"
      },
      "source": [
        "#Executing the feature engineering\r\n",
        "fcfe = engi(cfe)"
      ],
      "execution_count": null,
      "outputs": []
    },
    {
      "cell_type": "code",
      "metadata": {
        "id": "xgXS_flcO0ID"
      },
      "source": [
        "#Creating x variables (Which just does not have the purchase data)\r\n",
        "x_final = fcfe.drop(['Purchase'], axis = 1)\r\n",
        "#Creating the y variables (The purchase data)\r\n",
        "y_final = fcfe['Purchase']"
      ],
      "execution_count": 169,
      "outputs": []
    },
    {
      "cell_type": "code",
      "metadata": {
        "id": "xXfErSUKo2aA"
      },
      "source": [
        "#Creating function that trains and fits the model, returning the coefficients, intercepts, MAE, MSE, RMSE, and R^2\r\n",
        "#The m is where the lrm model will placed to ensure we are testing this new data set with the trained model\r\n",
        "def flrm(data_frame, m):\r\n",
        "  #Usign previously trained model to predict new data  \r\n",
        "  fy_pred = m.predict(x_final)\r\n",
        "\r\n",
        "  #Obtaining the coefficients, intercepts, MAE, MSE, and R^2\r\n",
        "  print('Coefficients: {}'.format(m.coef_))\r\n",
        "  print('Intecerpt: {}'.format(m.intercept_))\r\n",
        "  print('Mean absolute Error (MAE): {:.2f}'.format(skl.metrics.mean_absolute_error(y_final, fy_pred)))\r\n",
        "  print('Mean squared error (MSE): {:.2f}'.format(skl.metrics.mean_squared_error(y_final, fy_pred)))\r\n",
        "  print('Root mean squared error (RMSE): {:.2f}'.format(np.sqrt(skl.metrics.mean_squared_error(y_final, fy_pred))))\r\n",
        "  print('Coefficient of Determination (R^2): {:.2f}'.format(skl.metrics.r2_score(y_final, fy_pred)))"
      ],
      "execution_count": 171,
      "outputs": []
    },
    {
      "cell_type": "code",
      "metadata": {
        "colab": {
          "base_uri": "https://localhost:8080/"
        },
        "id": "djf5tWU3HcCA",
        "outputId": "6b5d30b2-2f51-4027-e623-6c9abe6b3178"
      },
      "source": [
        "#Execting final linear regression model test\r\n",
        "flrm(fcfe, lrm(fcbf, 'N'))"
      ],
      "execution_count": 172,
      "outputs": [
        {
          "output_type": "stream",
          "text": [
            "Coefficients: [-1.10944763e+11 -1.10944763e+11  2.41515724e-02 -8.14982748e+09\n",
            " -8.14982748e+09 -8.14982748e+09 -8.14982748e+09 -8.14982748e+09\n",
            " -8.14982748e+09 -8.14982748e+09 -8.14982748e+09 -8.14982748e+09\n",
            " -8.14982748e+09 -8.14982748e+09 -8.14982748e+09 -8.14982748e+09\n",
            " -8.14982748e+09 -8.14982748e+09 -8.14982748e+09 -8.14982748e+09\n",
            " -8.14982748e+09 -8.14982748e+09 -8.14982748e+09 -8.14982748e+09\n",
            " -4.29533619e+10 -4.29533619e+10 -4.29533619e+10  5.80076151e-04\n",
            "  3.74068092e+11  3.74068092e+11  1.22554803e+10  1.22554803e+10\n",
            "  1.22554803e+10  1.22554803e+10  1.22554803e+10  1.22554803e+10\n",
            "  1.22554803e+10  1.22554803e+10  1.22554803e+10  1.22554803e+10\n",
            "  1.22554803e+10  1.22554803e+10  1.22554803e+10  1.22554803e+10\n",
            "  1.22554803e+10  1.22554803e+10  1.22554803e+10  1.22554803e+10]\n",
            "Intecerpt: -224275619852.54218\n",
            "Mean absolute Error (MAE): 0.10\n",
            "Mean squared error (MSE): 0.02\n",
            "Root mean squared error (RMSE): 0.13\n",
            "Coefficient of Determination (R^2): 0.63\n"
          ],
          "name": "stdout"
        }
      ]
    },
    {
      "cell_type": "markdown",
      "metadata": {
        "id": "sGK91myUD-sK"
      },
      "source": [
        "**I. Recursive Feature Elimination**"
      ]
    },
    {
      "cell_type": "code",
      "metadata": {
        "id": "xaMxwcVXD-Za"
      },
      "source": [
        "#Importing from sklearn to facilitate the coding\r\n",
        "from sklearn.tree import DecisionTreeRegressor\r\n",
        "from sklearn.feature_selection import RFECV\r\n",
        "from sklearn.datasets import make_regression\r\n",
        "\r\n",
        "#Implementing the decision tree regressor\r\n",
        "tree = DecisionTreeRegressor()\r\n",
        "\r\n",
        "#Creating a recursive feature elimination\r\n",
        "rfecv = RFECV(estimator=tree, step=1, scoring='neg_mean_absolute_error', verbose=1)"
      ],
      "execution_count": 173,
      "outputs": []
    },
    {
      "cell_type": "code",
      "metadata": {
        "colab": {
          "base_uri": "https://localhost:8080/"
        },
        "id": "Q5B-KOl0I_AZ",
        "outputId": "65f1ceeb-2e7d-46ab-9f0e-465708ca60d3"
      },
      "source": [
        "#The recursive feature elimination will be only applied to the training data so there is no information leakage for the actual testing\r\n",
        "#Executing the recursive feature elimination\r\n",
        "rfecv.fit(x_train, y_train)"
      ],
      "execution_count": 176,
      "outputs": [
        {
          "output_type": "stream",
          "text": [
            "Fitting estimator with 48 features.\n",
            "Fitting estimator with 47 features.\n",
            "Fitting estimator with 46 features.\n",
            "Fitting estimator with 45 features.\n",
            "Fitting estimator with 44 features.\n",
            "Fitting estimator with 43 features.\n",
            "Fitting estimator with 42 features.\n",
            "Fitting estimator with 41 features.\n",
            "Fitting estimator with 40 features.\n",
            "Fitting estimator with 39 features.\n",
            "Fitting estimator with 38 features.\n",
            "Fitting estimator with 37 features.\n",
            "Fitting estimator with 36 features.\n",
            "Fitting estimator with 35 features.\n",
            "Fitting estimator with 34 features.\n",
            "Fitting estimator with 33 features.\n",
            "Fitting estimator with 32 features.\n",
            "Fitting estimator with 31 features.\n",
            "Fitting estimator with 30 features.\n",
            "Fitting estimator with 29 features.\n",
            "Fitting estimator with 28 features.\n",
            "Fitting estimator with 27 features.\n",
            "Fitting estimator with 26 features.\n",
            "Fitting estimator with 25 features.\n",
            "Fitting estimator with 24 features.\n",
            "Fitting estimator with 23 features.\n",
            "Fitting estimator with 22 features.\n",
            "Fitting estimator with 21 features.\n",
            "Fitting estimator with 20 features.\n",
            "Fitting estimator with 19 features.\n",
            "Fitting estimator with 18 features.\n",
            "Fitting estimator with 17 features.\n",
            "Fitting estimator with 16 features.\n",
            "Fitting estimator with 15 features.\n",
            "Fitting estimator with 14 features.\n",
            "Fitting estimator with 13 features.\n",
            "Fitting estimator with 12 features.\n",
            "Fitting estimator with 11 features.\n",
            "Fitting estimator with 10 features.\n",
            "Fitting estimator with 9 features.\n",
            "Fitting estimator with 8 features.\n",
            "Fitting estimator with 7 features.\n",
            "Fitting estimator with 6 features.\n",
            "Fitting estimator with 5 features.\n",
            "Fitting estimator with 4 features.\n",
            "Fitting estimator with 3 features.\n",
            "Fitting estimator with 2 features.\n",
            "Fitting estimator with 48 features.\n",
            "Fitting estimator with 47 features.\n",
            "Fitting estimator with 46 features.\n",
            "Fitting estimator with 45 features.\n",
            "Fitting estimator with 44 features.\n",
            "Fitting estimator with 43 features.\n",
            "Fitting estimator with 42 features.\n",
            "Fitting estimator with 41 features.\n",
            "Fitting estimator with 40 features.\n",
            "Fitting estimator with 39 features.\n",
            "Fitting estimator with 38 features.\n",
            "Fitting estimator with 37 features.\n",
            "Fitting estimator with 36 features.\n",
            "Fitting estimator with 35 features.\n",
            "Fitting estimator with 34 features.\n",
            "Fitting estimator with 33 features.\n",
            "Fitting estimator with 32 features.\n",
            "Fitting estimator with 31 features.\n",
            "Fitting estimator with 30 features.\n",
            "Fitting estimator with 29 features.\n",
            "Fitting estimator with 28 features.\n",
            "Fitting estimator with 27 features.\n",
            "Fitting estimator with 26 features.\n",
            "Fitting estimator with 25 features.\n",
            "Fitting estimator with 24 features.\n",
            "Fitting estimator with 23 features.\n",
            "Fitting estimator with 22 features.\n",
            "Fitting estimator with 21 features.\n",
            "Fitting estimator with 20 features.\n",
            "Fitting estimator with 19 features.\n",
            "Fitting estimator with 18 features.\n",
            "Fitting estimator with 17 features.\n",
            "Fitting estimator with 16 features.\n",
            "Fitting estimator with 15 features.\n",
            "Fitting estimator with 14 features.\n",
            "Fitting estimator with 13 features.\n",
            "Fitting estimator with 12 features.\n",
            "Fitting estimator with 11 features.\n",
            "Fitting estimator with 10 features.\n",
            "Fitting estimator with 9 features.\n",
            "Fitting estimator with 8 features.\n",
            "Fitting estimator with 7 features.\n",
            "Fitting estimator with 6 features.\n",
            "Fitting estimator with 5 features.\n",
            "Fitting estimator with 4 features.\n",
            "Fitting estimator with 3 features.\n",
            "Fitting estimator with 2 features.\n",
            "Fitting estimator with 48 features.\n",
            "Fitting estimator with 47 features.\n",
            "Fitting estimator with 46 features.\n",
            "Fitting estimator with 45 features.\n",
            "Fitting estimator with 44 features.\n",
            "Fitting estimator with 43 features.\n",
            "Fitting estimator with 42 features.\n",
            "Fitting estimator with 41 features.\n",
            "Fitting estimator with 40 features.\n",
            "Fitting estimator with 39 features.\n",
            "Fitting estimator with 38 features.\n",
            "Fitting estimator with 37 features.\n",
            "Fitting estimator with 36 features.\n",
            "Fitting estimator with 35 features.\n",
            "Fitting estimator with 34 features.\n",
            "Fitting estimator with 33 features.\n",
            "Fitting estimator with 32 features.\n",
            "Fitting estimator with 31 features.\n",
            "Fitting estimator with 30 features.\n",
            "Fitting estimator with 29 features.\n",
            "Fitting estimator with 28 features.\n",
            "Fitting estimator with 27 features.\n",
            "Fitting estimator with 26 features.\n",
            "Fitting estimator with 25 features.\n",
            "Fitting estimator with 24 features.\n",
            "Fitting estimator with 23 features.\n",
            "Fitting estimator with 22 features.\n",
            "Fitting estimator with 21 features.\n",
            "Fitting estimator with 20 features.\n",
            "Fitting estimator with 19 features.\n",
            "Fitting estimator with 18 features.\n",
            "Fitting estimator with 17 features.\n",
            "Fitting estimator with 16 features.\n",
            "Fitting estimator with 15 features.\n",
            "Fitting estimator with 14 features.\n",
            "Fitting estimator with 13 features.\n",
            "Fitting estimator with 12 features.\n",
            "Fitting estimator with 11 features.\n",
            "Fitting estimator with 10 features.\n",
            "Fitting estimator with 9 features.\n",
            "Fitting estimator with 8 features.\n",
            "Fitting estimator with 7 features.\n",
            "Fitting estimator with 6 features.\n",
            "Fitting estimator with 5 features.\n",
            "Fitting estimator with 4 features.\n",
            "Fitting estimator with 3 features.\n",
            "Fitting estimator with 2 features.\n",
            "Fitting estimator with 48 features.\n",
            "Fitting estimator with 47 features.\n",
            "Fitting estimator with 46 features.\n",
            "Fitting estimator with 45 features.\n",
            "Fitting estimator with 44 features.\n",
            "Fitting estimator with 43 features.\n",
            "Fitting estimator with 42 features.\n",
            "Fitting estimator with 41 features.\n",
            "Fitting estimator with 40 features.\n",
            "Fitting estimator with 39 features.\n",
            "Fitting estimator with 38 features.\n",
            "Fitting estimator with 37 features.\n",
            "Fitting estimator with 36 features.\n",
            "Fitting estimator with 35 features.\n",
            "Fitting estimator with 34 features.\n",
            "Fitting estimator with 33 features.\n",
            "Fitting estimator with 32 features.\n",
            "Fitting estimator with 31 features.\n",
            "Fitting estimator with 30 features.\n",
            "Fitting estimator with 29 features.\n",
            "Fitting estimator with 28 features.\n",
            "Fitting estimator with 27 features.\n",
            "Fitting estimator with 26 features.\n",
            "Fitting estimator with 25 features.\n",
            "Fitting estimator with 24 features.\n",
            "Fitting estimator with 23 features.\n",
            "Fitting estimator with 22 features.\n",
            "Fitting estimator with 21 features.\n",
            "Fitting estimator with 20 features.\n",
            "Fitting estimator with 19 features.\n",
            "Fitting estimator with 18 features.\n",
            "Fitting estimator with 17 features.\n",
            "Fitting estimator with 16 features.\n",
            "Fitting estimator with 15 features.\n",
            "Fitting estimator with 14 features.\n",
            "Fitting estimator with 13 features.\n",
            "Fitting estimator with 12 features.\n",
            "Fitting estimator with 11 features.\n",
            "Fitting estimator with 10 features.\n",
            "Fitting estimator with 9 features.\n",
            "Fitting estimator with 8 features.\n",
            "Fitting estimator with 7 features.\n",
            "Fitting estimator with 6 features.\n",
            "Fitting estimator with 5 features.\n",
            "Fitting estimator with 4 features.\n",
            "Fitting estimator with 3 features.\n",
            "Fitting estimator with 2 features.\n",
            "Fitting estimator with 48 features.\n",
            "Fitting estimator with 47 features.\n",
            "Fitting estimator with 46 features.\n",
            "Fitting estimator with 45 features.\n",
            "Fitting estimator with 44 features.\n",
            "Fitting estimator with 43 features.\n",
            "Fitting estimator with 42 features.\n",
            "Fitting estimator with 41 features.\n",
            "Fitting estimator with 40 features.\n",
            "Fitting estimator with 39 features.\n",
            "Fitting estimator with 38 features.\n",
            "Fitting estimator with 37 features.\n",
            "Fitting estimator with 36 features.\n",
            "Fitting estimator with 35 features.\n",
            "Fitting estimator with 34 features.\n",
            "Fitting estimator with 33 features.\n",
            "Fitting estimator with 32 features.\n",
            "Fitting estimator with 31 features.\n",
            "Fitting estimator with 30 features.\n",
            "Fitting estimator with 29 features.\n",
            "Fitting estimator with 28 features.\n",
            "Fitting estimator with 27 features.\n",
            "Fitting estimator with 26 features.\n",
            "Fitting estimator with 25 features.\n",
            "Fitting estimator with 24 features.\n",
            "Fitting estimator with 23 features.\n",
            "Fitting estimator with 22 features.\n",
            "Fitting estimator with 21 features.\n",
            "Fitting estimator with 20 features.\n",
            "Fitting estimator with 19 features.\n",
            "Fitting estimator with 18 features.\n",
            "Fitting estimator with 17 features.\n",
            "Fitting estimator with 16 features.\n",
            "Fitting estimator with 15 features.\n",
            "Fitting estimator with 14 features.\n",
            "Fitting estimator with 13 features.\n",
            "Fitting estimator with 12 features.\n",
            "Fitting estimator with 11 features.\n",
            "Fitting estimator with 10 features.\n",
            "Fitting estimator with 9 features.\n",
            "Fitting estimator with 8 features.\n",
            "Fitting estimator with 7 features.\n",
            "Fitting estimator with 6 features.\n",
            "Fitting estimator with 5 features.\n",
            "Fitting estimator with 4 features.\n",
            "Fitting estimator with 3 features.\n",
            "Fitting estimator with 2 features.\n",
            "Fitting estimator with 48 features.\n"
          ],
          "name": "stdout"
        },
        {
          "output_type": "execute_result",
          "data": {
            "text/plain": [
              "RFECV(estimator=DecisionTreeRegressor(), scoring='neg_mean_absolute_error',\n",
              "      verbose=1)"
            ]
          },
          "metadata": {
            "tags": []
          },
          "execution_count": 176
        }
      ]
    },
    {
      "cell_type": "code",
      "metadata": {
        "colab": {
          "base_uri": "https://localhost:8080/"
        },
        "id": "OtWrfi39STSY",
        "outputId": "bb2b4ca6-3f70-4c38-8e21-77bec6947033"
      },
      "source": [
        "#Using model to predict the test data set  \r\n",
        "y_pred = rfecv.predict(x_test)\r\n",
        "\r\n",
        "#Obtaining the coefficients, intercepts, MAE, MSE, and R^2\r\n",
        "print('Mean absolute Error (MAE): {:.2f}'.format(skl.metrics.mean_absolute_error(y_test, y_pred)))\r\n",
        "print('Mean squared error (MSE): {:.2f}'.format(skl.metrics.mean_squared_error(y_test, y_pred)))\r\n",
        "print('Root mean squared error (RMSE): {:.2f}'.format(np.sqrt(skl.metrics.mean_squared_error(y_test, y_pred))))\r\n",
        "print('Coefficient of Determination (R^2): {:.2f}'.format(skl.metrics.r2_score(y_test, y_pred)))"
      ],
      "execution_count": 183,
      "outputs": [
        {
          "output_type": "stream",
          "text": [
            "Mean absolute Error (MAE): 0.09\n",
            "Mean squared error (MSE): 0.02\n",
            "Root mean squared error (RMSE): 0.13\n",
            "Coefficient of Determination (R^2): 0.64\n"
          ],
          "name": "stdout"
        }
      ]
    },
    {
      "cell_type": "code",
      "metadata": {
        "colab": {
          "base_uri": "https://localhost:8080/"
        },
        "id": "-r936sOqT8T2",
        "outputId": "fa3820bf-a2e6-4861-dc85-f43d23953d47"
      },
      "source": [
        "#Usign model to predict final test data  \r\n",
        "fy_pred = rfecv.predict(x_final)\r\n",
        "\r\n",
        "#Obtaining the coefficients, intercepts, MAE, MSE, and R^2\r\n",
        "print('Mean absolute Error (MAE): {:.2f}'.format(skl.metrics.mean_absolute_error(y_final, fy_pred)))\r\n",
        "print('Mean squared error (MSE): {:.2f}'.format(skl.metrics.mean_squared_error(y_final, fy_pred)))\r\n",
        "print('Root mean squared error (RMSE): {:.2f}'.format(np.sqrt(skl.metrics.mean_squared_error(y_final, fy_pred))))\r\n",
        "print('Coefficient of Determination (R^2): {:.2f}'.format(skl.metrics.r2_score(y_final, fy_pred)))"
      ],
      "execution_count": 184,
      "outputs": [
        {
          "output_type": "stream",
          "text": [
            "Mean absolute Error (MAE): 0.09\n",
            "Mean squared error (MSE): 0.02\n",
            "Root mean squared error (RMSE): 0.13\n",
            "Coefficient of Determination (R^2): 0.63\n"
          ],
          "name": "stdout"
        }
      ]
    },
    {
      "cell_type": "markdown",
      "metadata": {
        "id": "q7YfGxlFxcr3"
      },
      "source": [
        "**Reslts**: Here we can see that the new model utilizing recursive feature elimination through the use of a MAE scoring system, was able to reduce the overall MAE for the test data and the final test data 0.1 to 0.09, while also increasing the R-squared from 0.63 in the first model  to 0.64 in the new model with the test data. On the other hand, the R squared also decreased to 0.63 from its 0.64 in the final test data using the new model. "
      ]
    }
  ]
}